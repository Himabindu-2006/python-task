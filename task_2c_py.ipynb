{
  "nbformat": 4,
  "nbformat_minor": 0,
  "metadata": {
    "colab": {
      "provenance": [],
      "authorship_tag": "ABX9TyNYP91zGgjcUD8O6PhPwslw",
      "include_colab_link": true
    },
    "kernelspec": {
      "name": "python3",
      "display_name": "Python 3"
    },
    "language_info": {
      "name": "python"
    }
  },
  "cells": [
    {
      "cell_type": "markdown",
      "metadata": {
        "id": "view-in-github",
        "colab_type": "text"
      },
      "source": [
        "<a href=\"https://colab.research.google.com/github/Himabindu-2006/python-task/blob/main/task_2c_py.ipynb\" target=\"_parent\"><img src=\"https://colab.research.google.com/assets/colab-badge.svg\" alt=\"Open In Colab\"/></a>"
      ]
    },
    {
      "cell_type": "code",
      "execution_count": 1,
      "metadata": {
        "colab": {
          "base_uri": "https://localhost:8080/"
        },
        "id": "AjOZfA5Yda2X",
        "outputId": "6f96c0bc-55d1-4611-88c1-bd5e1f174360"
      },
      "outputs": [
        {
          "output_type": "stream",
          "name": "stdout",
          "text": [
            "Enter a sequence of comma-separated 4-digit binary numbers: 0111,1000\n",
            "[]\n"
          ]
        }
      ],
      "source": [
        "nums = list(input(\"Enter a sequence of comma-separated 4-digit binary numbers: \").split(','))\n",
        "res = [i for i in nums if int(i, 2) % 6==0]\n",
        "print(res)"
      ]
    }
  ]
}