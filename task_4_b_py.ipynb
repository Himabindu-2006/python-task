{
  "nbformat": 4,
  "nbformat_minor": 0,
  "metadata": {
    "colab": {
      "provenance": [],
      "authorship_tag": "ABX9TyP+cCDmWKtHiKNYTCecloV7",
      "include_colab_link": true
    },
    "kernelspec": {
      "name": "python3",
      "display_name": "Python 3"
    },
    "language_info": {
      "name": "python"
    }
  },
  "cells": [
    {
      "cell_type": "markdown",
      "metadata": {
        "id": "view-in-github",
        "colab_type": "text"
      },
      "source": [
        "<a href=\"https://colab.research.google.com/github/Himabindu-2006/python-task/blob/main/task_4_b_py.ipynb\" target=\"_parent\"><img src=\"https://colab.research.google.com/assets/colab-badge.svg\" alt=\"Open In Colab\"/></a>"
      ]
    },
    {
      "cell_type": "code",
      "execution_count": null,
      "metadata": {
        "id": "iNZPAoYn5AKC"
      },
      "outputs": [],
      "source": [
        "alist = []\n",
        "\n",
        "for i in range(int(input())):\n",
        "    name = input()\n",
        "    score = float(input())\n",
        "    alist.append([name, score])\n",
        "\n",
        "# Find the second lowest score\n",
        "second_highest = sorted(set([score for name, score in alist]))[1]\n",
        "\n",
        "# Get names of students with that score and sort alphabetically\n",
        "names = sorted([name for name, score in alist if score == second_highest])\n",
        "\n",
        "# Print each name on a new line\n",
        "print('\\n'.join(names))\n"
      ]
    }
  ]
}