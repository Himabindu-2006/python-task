{
  "nbformat": 4,
  "nbformat_minor": 0,
  "metadata": {
    "colab": {
      "provenance": [],
      "authorship_tag": "ABX9TyPwYcAGYViu4RdJDwf6+al2",
      "include_colab_link": true
    },
    "kernelspec": {
      "name": "python3",
      "display_name": "Python 3"
    },
    "language_info": {
      "name": "python"
    }
  },
  "cells": [
    {
      "cell_type": "markdown",
      "metadata": {
        "id": "view-in-github",
        "colab_type": "text"
      },
      "source": [
        "<a href=\"https://colab.research.google.com/github/Himabindu-2006/python-task/blob/main/task_8_b_py.ipynb\" target=\"_parent\"><img src=\"https://colab.research.google.com/assets/colab-badge.svg\" alt=\"Open In Colab\"/></a>"
      ]
    },
    {
      "cell_type": "code",
      "execution_count": null,
      "metadata": {
        "id": "2H0BAYumWAkF"
      },
      "outputs": [],
      "source": [
        "def cube_product_of_natural_numbers(n):\n",
        "product = 1\n",
        "for i in range(1, n + 1):\n",
        "product *= i ** 3\n",
        "return product\n",
        "# Get input from the user\n",
        "n = int(input(\"Enter the value of N: \"))\n",
        "# Calculate the cube product\n",
        "result = cube_product_of_natural_numbers(n)\n",
        "# Output the result\n",
        "print(\"Cube product of the first\", n, \"natural numbers is:\", result)"
      ]
    }
  ]
}