{
  "nbformat": 4,
  "nbformat_minor": 0,
  "metadata": {
    "colab": {
      "provenance": [],
      "authorship_tag": "ABX9TyOA1gFERgf0IXzLxsZGz/ob",
      "include_colab_link": true
    },
    "kernelspec": {
      "name": "python3",
      "display_name": "Python 3"
    },
    "language_info": {
      "name": "python"
    }
  },
  "cells": [
    {
      "cell_type": "markdown",
      "metadata": {
        "id": "view-in-github",
        "colab_type": "text"
      },
      "source": [
        "<a href=\"https://colab.research.google.com/github/Himabindu-2006/python-task/blob/main/task_3_1py.ipynb\" target=\"_parent\"><img src=\"https://colab.research.google.com/assets/colab-badge.svg\" alt=\"Open In Colab\"/></a>"
      ]
    },
    {
      "cell_type": "code",
      "execution_count": 2,
      "metadata": {
        "colab": {
          "base_uri": "https://localhost:8080/"
        },
        "id": "VoZQupr5iuvH",
        "outputId": "03c78775-018c-4dad-acd1-ea1e001f4e10"
      },
      "outputs": [
        {
          "output_type": "stream",
          "name": "stdout",
          "text": [
            "Enter the date in MM DD YYYY format: 03 30 2006 \n",
            "THURSDAY\n"
          ]
        }
      ],
      "source": [
        "import datetime\n",
        "\n",
        "input_date = input(\"Enter the date in MM DD YYYY format: \")\n",
        "month, day, year = map(int, input_date.split())\n",
        "\n",
        "if 2000 < year < 3000:\n",
        "    try:\n",
        "        x = datetime.datetime(year, month, day)\n",
        "        day_name = x.strftime(\"%A\").upper()\n",
        "        print(day_name)\n",
        "    except ValueError as e:\n",
        "        print(\"Invalid date:\", e)\n",
        "else:\n",
        "    print(\"Year is not within the specified constraints.\")\n"
      ]
    }
  ]
}