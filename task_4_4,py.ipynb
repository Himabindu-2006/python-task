{
  "nbformat": 4,
  "nbformat_minor": 0,
  "metadata": {
    "colab": {
      "provenance": [],
      "authorship_tag": "ABX9TyMoL9hTIH7vYvNhM+1dG+gd",
      "include_colab_link": true
    },
    "kernelspec": {
      "name": "python3",
      "display_name": "Python 3"
    },
    "language_info": {
      "name": "python"
    }
  },
  "cells": [
    {
      "cell_type": "markdown",
      "metadata": {
        "id": "view-in-github",
        "colab_type": "text"
      },
      "source": [
        "<a href=\"https://colab.research.google.com/github/Himabindu-2006/python-task/blob/main/task_4_4%2Cpy.ipynb\" target=\"_parent\"><img src=\"https://colab.research.google.com/assets/colab-badge.svg\" alt=\"Open In Colab\"/></a>"
      ]
    },
    {
      "cell_type": "code",
      "execution_count": null,
      "metadata": {
        "colab": {
          "base_uri": "https://localhost:8080/"
        },
        "id": "jD98cKkI65wN",
        "outputId": "07df3c7d-a899-40c6-a964-8285382c1c02"
      },
      "outputs": [
        {
          "output_type": "stream",
          "name": "stdout",
          "text": [
            "Enter the total number of test cases: 4\n",
            "Enter balloon colors (a/b): blue\n",
            "0\n",
            "Enter balloon colors (a/b): 3\n",
            "0\n"
          ]
        }
      ],
      "source": [
        "def min_paint_balloons(s):\n",
        "    amber_count = s.count('a')\n",
        "    brass_count = s.count('b')\n",
        "    min_paint = min(amber_count, brass_count)\n",
        "    return min_paint\n",
        "\n",
        "T = int(input(\"Enter the total number of test cases: \"))\n",
        "for i in range(T):\n",
        "    s = input(\"Enter balloon colors (a/b): \").strip()\n",
        "    print(min_paint_balloons(s))\n"
      ]
    },
    {
      "cell_type": "code",
      "source": [],
      "metadata": {
        "id": "k3Bn6yTi7o3b"
      },
      "execution_count": null,
      "outputs": []
    }
  ]
}