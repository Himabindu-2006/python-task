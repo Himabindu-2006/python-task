{
  "nbformat": 4,
  "nbformat_minor": 0,
  "metadata": {
    "colab": {
      "provenance": [],
      "authorship_tag": "ABX9TyPpMCKYgZuvptk2qIKVkHti",
      "include_colab_link": true
    },
    "kernelspec": {
      "name": "python3",
      "display_name": "Python 3"
    },
    "language_info": {
      "name": "python"
    }
  },
  "cells": [
    {
      "cell_type": "markdown",
      "metadata": {
        "id": "view-in-github",
        "colab_type": "text"
      },
      "source": [
        "<a href=\"https://colab.research.google.com/github/Himabindu-2006/python-task/blob/main/task_1_py.ipynb\" target=\"_parent\"><img src=\"https://colab.research.google.com/assets/colab-badge.svg\" alt=\"Open In Colab\"/></a>"
      ]
    },
    {
      "cell_type": "code",
      "execution_count": 1,
      "metadata": {
        "colab": {
          "base_uri": "https://localhost:8080/"
        },
        "id": "yMsyp7QrgQ1h",
        "outputId": "54d69353-469d-4122-d703-a4588f96ad12"
      },
      "outputs": [
        {
          "output_type": "stream",
          "name": "stdout",
          "text": [
            "Welcome to the Python Mini Interpreter!\n",
            "Type 'exit' to quit.\n",
            "\n",
            ">>> exit\n",
            "Exiting interpreter.\n"
          ]
        }
      ],
      "source": [
        "print(\"Welcome to the Python Mini Interpreter!\")\n",
        "print(\"Type 'exit' to quit.\\n\")\n",
        "\n",
        "while True:\n",
        "    user_input = input(\">>> \")\n",
        "\n",
        "    if user_input.lower() == 'exit':\n",
        "        print(\"Exiting interpreter.\")\n",
        "        break\n",
        "\n",
        "    try:\n",
        "        result = eval(user_input)\n",
        "        if result is not None:\n",
        "            print(result)\n",
        "    except SyntaxError:\n",
        "        try:\n",
        "            exec(user_input)\n",
        "        except Exception as e:\n",
        "            print(\"Error:\", e)\n",
        "    except Exception as e:\n",
        "        print(\"Error:\", e)\n"
      ]
    }
  ]
}