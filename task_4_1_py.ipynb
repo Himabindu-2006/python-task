{
  "nbformat": 4,
  "nbformat_minor": 0,
  "metadata": {
    "colab": {
      "provenance": [],
      "authorship_tag": "ABX9TyOwM0m3zmk4N+SQFQ8wKVs2",
      "include_colab_link": true
    },
    "kernelspec": {
      "name": "python3",
      "display_name": "Python 3"
    },
    "language_info": {
      "name": "python"
    }
  },
  "cells": [
    {
      "cell_type": "markdown",
      "metadata": {
        "id": "view-in-github",
        "colab_type": "text"
      },
      "source": [
        "<a href=\"https://colab.research.google.com/github/Himabindu-2006/python-task/blob/main/task_4_1_py.ipynb\" target=\"_parent\"><img src=\"https://colab.research.google.com/assets/colab-badge.svg\" alt=\"Open In Colab\"/></a>"
      ]
    },
    {
      "cell_type": "code",
      "execution_count": 1,
      "metadata": {
        "colab": {
          "base_uri": "https://localhost:8080/"
        },
        "id": "rXmV7Di03bOg",
        "outputId": "bffcd16a-9b83-4740-fc89-3ddf0304a332"
      },
      "outputs": [
        {
          "output_type": "stream",
          "name": "stdout",
          "text": [
            "[12]\n",
            "[12, 4]\n",
            "[12, 4, 2]\n",
            "[12, 4, 2, 4]\n",
            "[12, 2, 4]\n",
            "[12, 2, 4, 21]\n",
            "[2, 4, 12, 21]\n",
            "[2, 4, 12]\n",
            "[12, 4, 2]\n",
            "[0, 1, 2, 3, 4, 5, 6, 7, 8, 9]\n"
          ]
        }
      ],
      "source": [
        "sample=[]\n",
        "sample.insert(0,12)\n",
        "print(sample)\n",
        "sample.insert(1,4)\n",
        "print(sample)\n",
        "sample.insert(2,2)\n",
        "print(sample)\n",
        "sample.insert(3,4)\n",
        "print(sample)\n",
        "sample.remove(4)\n",
        "print(sample)\n",
        "sample.append(21)\n",
        "print(sample)\n",
        "sample.sort()\n",
        "print(sample)\n",
        "sample.pop()\n",
        "print(sample)\n",
        "sample.reverse()\n",
        "print(sample)\n",
        "a = list(range(10))\n",
        "print(a)"
      ]
    }
  ]
}