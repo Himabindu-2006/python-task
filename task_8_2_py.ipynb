{
  "nbformat": 4,
  "nbformat_minor": 0,
  "metadata": {
    "colab": {
      "provenance": [],
      "authorship_tag": "ABX9TyMRXFfo67XAbn8AX701ZNtB",
      "include_colab_link": true
    },
    "kernelspec": {
      "name": "python3",
      "display_name": "Python 3"
    },
    "language_info": {
      "name": "python"
    }
  },
  "cells": [
    {
      "cell_type": "markdown",
      "metadata": {
        "id": "view-in-github",
        "colab_type": "text"
      },
      "source": [
        "<a href=\"https://colab.research.google.com/github/Himabindu-2006/python-task/blob/main/task_8_2_py.ipynb\" target=\"_parent\"><img src=\"https://colab.research.google.com/assets/colab-badge.svg\" alt=\"Open In Colab\"/></a>"
      ]
    },
    {
      "cell_type": "code",
      "execution_count": 2,
      "metadata": {
        "colab": {
          "base_uri": "https://localhost:8080/"
        },
        "id": "yA6tV0kFZIWW",
        "outputId": "acf97095-c9dd-4777-cce6-d2a1b5ff7b4a"
      },
      "outputs": [
        {
          "output_type": "stream",
          "name": "stdout",
          "text": [
            "Enter the value of N: 5\n",
            "Cube product of the first 5 natural numbers is: 1728000\n"
          ]
        }
      ],
      "source": [
        "def cube_product_of_natural_numbers(n):\n",
        "    product = 1\n",
        "    for i in range(1, n + 1):\n",
        "        product *= i ** 3\n",
        "    return product\n",
        "\n",
        "# Get input from the user\n",
        "n = int(input(\"Enter the value of N: \"))\n",
        "\n",
        "# Calculate the cube product\n",
        "result = cube_product_of_natural_numbers(n)\n",
        "\n",
        "# Output the result\n",
        "print(\"Cube product of the first\", n, \"natural numbers is:\", result)\n"
      ]
    }
  ]
}