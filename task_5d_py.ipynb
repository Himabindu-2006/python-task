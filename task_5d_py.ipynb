{
  "nbformat": 4,
  "nbformat_minor": 0,
  "metadata": {
    "colab": {
      "provenance": [],
      "authorship_tag": "ABX9TyMQ1qn4ha+ywSSVYlkQR/17",
      "include_colab_link": true
    },
    "kernelspec": {
      "name": "python3",
      "display_name": "Python 3"
    },
    "language_info": {
      "name": "python"
    }
  },
  "cells": [
    {
      "cell_type": "markdown",
      "metadata": {
        "id": "view-in-github",
        "colab_type": "text"
      },
      "source": [
        "<a href=\"https://colab.research.google.com/github/Himabindu-2006/python-task/blob/main/task_5d_py.ipynb\" target=\"_parent\"><img src=\"https://colab.research.google.com/assets/colab-badge.svg\" alt=\"Open In Colab\"/></a>"
      ]
    },
    {
      "cell_type": "code",
      "execution_count": 2,
      "metadata": {
        "colab": {
          "base_uri": "https://localhost:8080/"
        },
        "id": "6yCQWgMa_YQf",
        "outputId": "c8152963-a206-4c80-b620-14b10068153a"
      },
      "outputs": [
        {
          "output_type": "stream",
          "name": "stdout",
          "text": [
            "Initial exam scores: [87, 65, 92, 78, 55, 70, 82]\n",
            "Sorting using Selection Sort:\n",
            "After iteration 1 : [55, 65, 92, 78, 87, 70, 82]\n",
            "After iteration 2 : [55, 65, 92, 78, 87, 70, 82]\n",
            "After iteration 3 : [55, 65, 70, 78, 87, 92, 82]\n",
            "After iteration 4 : [55, 65, 70, 78, 87, 92, 82]\n",
            "After iteration 5 : [55, 65, 70, 78, 82, 92, 87]\n",
            "After iteration 6 : [55, 65, 70, 78, 82, 87, 92]\n",
            "After iteration 7 : [55, 65, 70, 78, 82, 87, 92]\n",
            "Final sorted exam scores: [55, 65, 70, 78, 82, 87, 92]\n"
          ]
        }
      ],
      "source": [
        "def selection_sort(scores):\n",
        "    n = len(scores)\n",
        "    for i in range(n):\n",
        "        min_index = i\n",
        "        for j in range(i + 1, n):\n",
        "            if scores[j] < scores[min_index]:\n",
        "                min_index = j\n",
        "        scores[i], scores[min_index] = scores[min_index], scores[i]\n",
        "        print(\"After iteration\", i + 1, \":\", scores)\n",
        "\n",
        "# Sample input\n",
        "exam_scores = [87, 65, 92, 78, 55, 70, 82]\n",
        "\n",
        "print(\"Initial exam scores:\", exam_scores)\n",
        "print(\"Sorting using Selection Sort:\")\n",
        "selection_sort(exam_scores)\n",
        "print(\"Final sorted exam scores:\", exam_scores)\n"
      ]
    }
  ]
}