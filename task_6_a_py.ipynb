{
  "nbformat": 4,
  "nbformat_minor": 0,
  "metadata": {
    "colab": {
      "provenance": [],
      "authorship_tag": "ABX9TyMW/AXssMOI5hVYJTfD8BfS",
      "include_colab_link": true
    },
    "kernelspec": {
      "name": "python3",
      "display_name": "Python 3"
    },
    "language_info": {
      "name": "python"
    }
  },
  "cells": [
    {
      "cell_type": "markdown",
      "metadata": {
        "id": "view-in-github",
        "colab_type": "text"
      },
      "source": [
        "<a href=\"https://colab.research.google.com/github/Himabindu-2006/python-task/blob/main/task_6_a_py.ipynb\" target=\"_parent\"><img src=\"https://colab.research.google.com/assets/colab-badge.svg\" alt=\"Open In Colab\"/></a>"
      ]
    },
    {
      "cell_type": "code",
      "execution_count": 3,
      "metadata": {
        "id": "cF4DkuOA_84f"
      },
      "outputs": [],
      "source": [
        "import os\n",
        "\n",
        "def copy_files(file_paths):\n",
        "    for file_path in file_paths:\n",
        "        if os.path.exists(file_path):\n",
        "            with open(file_path, 'r') as original_file:\n",
        "                original_content = original_file.read()\n",
        "\n",
        "            # Create the copy file path\n",
        "            name_parts = file_path.rsplit('.', 1)\n",
        "            if len(name_parts) == 2:\n",
        "                copy_file_path = f\"{name_parts[0]}_copy.{name_parts[1]}\"\n",
        "            else:\n",
        "                copy_file_path = file_path + \"_copy\"\n",
        "\n",
        "            with open(copy_file_path, 'w') as copy_file:\n",
        "                copy_file.write(original_content)\n",
        "\n",
        "            print(f\"Contents copied from '{file_path}' to '{copy_file_path}' successfully.\")\n",
        "        else:\n",
        "            print(f\"Error: File '{file_path}' not found.\")\n"
      ]
    }
  ]
}