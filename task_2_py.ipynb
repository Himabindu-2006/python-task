{
  "nbformat": 4,
  "nbformat_minor": 0,
  "metadata": {
    "colab": {
      "provenance": []
    },
    "kernelspec": {
      "name": "python3",
      "display_name": "Python 3"
    },
    "language_info": {
      "name": "python"
    }
  },
  "cells": [
    {
      "cell_type": "code",
      "execution_count": null,
      "metadata": {
        "colab": {
          "base_uri": "https://localhost:8080/"
        },
        "id": "GJSf4BN8WlZ8",
        "outputId": "0b79af3c-8376-493f-da29-dc60730e5920"
      },
      "outputs": [
        {
          "output_type": "stream",
          "name": "stdout",
          "text": [
            "Guess a number between 1 and 9: 4\n",
            "Wrong guess. Try again.\n",
            "Guess a number between 1 and 9: 1\n",
            "Wrong guess. Try again.\n",
            "Guess a number between 1 and 9: 5\n",
            "Wrong guess. Try again.\n"
          ]
        }
      ],
      "source": [
        "import random\n",
        "\n",
        "def guess_number():\n",
        "    target_number = random.randint(1, 9)\n",
        "    while True:\n",
        "        user_guess = int(input(\"Guess a number between 1 and 9: \"))\n",
        "        if user_guess == target_number:\n",
        "            print(\"Well guessed!\")\n",
        "            break\n",
        "        else:\n",
        "            print(\"Wrong guess. Try again.\")\n",
        "\n",
        "guess_number()\n"
      ]
    }
  ]
}