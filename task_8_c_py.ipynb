{
  "nbformat": 4,
  "nbformat_minor": 0,
  "metadata": {
    "colab": {
      "provenance": [],
      "authorship_tag": "ABX9TyPasrhA+TawTtguuMTsnQnq",
      "include_colab_link": true
    },
    "kernelspec": {
      "name": "python3",
      "display_name": "Python 3"
    },
    "language_info": {
      "name": "python"
    }
  },
  "cells": [
    {
      "cell_type": "markdown",
      "metadata": {
        "id": "view-in-github",
        "colab_type": "text"
      },
      "source": [
        "<a href=\"https://colab.research.google.com/github/Himabindu-2006/python-task/blob/main/task_8_c_py.ipynb\" target=\"_parent\"><img src=\"https://colab.research.google.com/assets/colab-badge.svg\" alt=\"Open In Colab\"/></a>"
      ]
    },
    {
      "cell_type": "code",
      "execution_count": 2,
      "metadata": {
        "colab": {
          "base_uri": "https://localhost:8080/"
        },
        "id": "CM2ZwcNBXPSb",
        "outputId": "6ac44827-bc7d-4b28-dff1-118b67cda154"
      },
      "outputs": [
        {
          "output_type": "stream",
          "name": "stdout",
          "text": [
            "Double the number of 15 = 30\n",
            "Triple the number of 15 = 45\n",
            "Quadruple the number of 15 = 60\n",
            "Quintuple the number of 15 = 75\n"
          ]
        }
      ],
      "source": [
        "def func_compute(n):\n",
        "    return lambda x: x * n\n",
        "\n",
        "# Double the number\n",
        "result = func_compute(2)\n",
        "print(\"Double the number of 15 =\", result(15))\n",
        "\n",
        "# Triple the number\n",
        "result = func_compute(3)\n",
        "print(\"Triple the number of 15 =\", result(15))\n",
        "\n",
        "# Quadruple the number\n",
        "result = func_compute(4)\n",
        "print(\"Quadruple the number of 15 =\", result(15))\n",
        "\n",
        "# Quintuple the number\n",
        "result = func_compute(5)\n",
        "print(\"Quintuple the number of 15 =\", result(15))\n"
      ]
    }
  ]
}