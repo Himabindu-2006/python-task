{
  "nbformat": 4,
  "nbformat_minor": 0,
  "metadata": {
    "colab": {
      "provenance": [],
      "authorship_tag": "ABX9TyOGUPQygr8GyDy+IEZJ1KyC",
      "include_colab_link": true
    },
    "kernelspec": {
      "name": "python3",
      "display_name": "Python 3"
    },
    "language_info": {
      "name": "python"
    }
  },
  "cells": [
    {
      "cell_type": "markdown",
      "metadata": {
        "id": "view-in-github",
        "colab_type": "text"
      },
      "source": [
        "<a href=\"https://colab.research.google.com/github/Himabindu-2006/python-task/blob/main/task_6_c_py.ipynb\" target=\"_parent\"><img src=\"https://colab.research.google.com/assets/colab-badge.svg\" alt=\"Open In Colab\"/></a>"
      ]
    },
    {
      "cell_type": "code",
      "execution_count": 2,
      "metadata": {
        "colab": {
          "base_uri": "https://localhost:8080/"
        },
        "id": "3Ccwz3odS6Bl",
        "outputId": "c3700ba6-70e6-4331-a251-087b297049a9"
      },
      "outputs": [
        {
          "output_type": "stream",
          "name": "stdout",
          "text": [
            "Error: File 'file1.txt' not found.\n",
            "Error: File 'file2.txt' not found.\n",
            "Error: File 'file3.txt' not found.\n"
          ]
        }
      ],
      "source": [
        "import os\n",
        "\n",
        "def copy_files(file_paths):\n",
        "    for file_path in file_paths:\n",
        "        if os.path.exists(file_path):\n",
        "            # Read the original file content\n",
        "            with open(file_path, 'r') as original_file:\n",
        "                original_content = original_file.read()\n",
        "\n",
        "            # Create the copy file path\n",
        "            name, ext = os.path.splitext(file_path)\n",
        "            copy_file_path = f\"{name}_copy{ext}\"\n",
        "\n",
        "            # Write the content to the copy file\n",
        "            with open(copy_file_path, 'w') as copy_file:\n",
        "                copy_file.write(original_content)\n",
        "\n",
        "            print(f\"Contents copied from {file_path} to {copy_file_path} successfully.\")\n",
        "        else:\n",
        "            print(f\"Error: File '{file_path}' not found.\")\n",
        "\n",
        "# Example usage\n",
        "file_list = ['file1.txt', 'file2.txt', 'file3.txt']  # List of file paths\n",
        "copy_files(file_list)\n"
      ]
    }
  ]
}