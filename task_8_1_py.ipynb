{
  "nbformat": 4,
  "nbformat_minor": 0,
  "metadata": {
    "colab": {
      "provenance": [],
      "authorship_tag": "ABX9TyMFLQf29XrsQ7Fr2IPmhv9t",
      "include_colab_link": true
    },
    "kernelspec": {
      "name": "python3",
      "display_name": "Python 3"
    },
    "language_info": {
      "name": "python"
    }
  },
  "cells": [
    {
      "cell_type": "markdown",
      "metadata": {
        "id": "view-in-github",
        "colab_type": "text"
      },
      "source": [
        "<a href=\"https://colab.research.google.com/github/Himabindu-2006/python-task/blob/main/task_7_1_py.ipynb\" target=\"_parent\"><img src=\"https://colab.research.google.com/assets/colab-badge.svg\" alt=\"Open In Colab\"/></a>"
      ]
    },
    {
      "cell_type": "code",
      "execution_count": 2,
      "metadata": {
        "colab": {
          "base_uri": "https://localhost:8080/"
        },
        "id": "FhnxZdZLVoXW",
        "outputId": "ff3f3cce-a40a-4754-c8a7-f2e69148a55c"
      },
      "outputs": [
        {
          "output_type": "stream",
          "name": "stdout",
          "text": [
            "0 1 1 2 3 5 8 13 21 34 "
          ]
        }
      ],
      "source": [
        "def fibonacci():\n",
        "    a, b = 0, 1\n",
        "    for _ in range(10):  # Generate 10 Fibonacci numbers\n",
        "        yield a\n",
        "        a, b = b, a + b\n",
        "\n",
        "# Create a generator object for the Fibonacci series\n",
        "fibonacci_series = fibonacci()\n",
        "\n",
        "# Print the first 10 Fibonacci numbers\n",
        "for number in fibonacci_series:\n",
        "    print(number, end=\" \")\n"
      ]
    }
  ]
}
