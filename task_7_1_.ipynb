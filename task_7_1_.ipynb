{
  "nbformat": 4,
  "nbformat_minor": 0,
  "metadata": {
    "colab": {
      "provenance": [],
      "authorship_tag": "ABX9TyNnbcTBnlqVFHdyL5/CqfB4",
      "include_colab_link": true
    },
    "kernelspec": {
      "name": "python3",
      "display_name": "Python 3"
    },
    "language_info": {
      "name": "python"
    }
  },
  "cells": [
    {
      "cell_type": "markdown",
      "metadata": {
        "id": "view-in-github",
        "colab_type": "text"
      },
      "source": [
        "<a href=\"https://colab.research.google.com/github/Himabindu-2006/python-task/blob/main/task_7_1_.ipynb\" target=\"_parent\"><img src=\"https://colab.research.google.com/assets/colab-badge.svg\" alt=\"Open In Colab\"/></a>"
      ]
    },
    {
      "cell_type": "code",
      "execution_count": 1,
      "metadata": {
        "colab": {
          "base_uri": "https://localhost:8080/"
        },
        "id": "dEflMUofX8cC",
        "outputId": "4e055c31-a612-4b53-8c62-89ab636c997d"
      },
      "outputs": [
        {
          "output_type": "stream",
          "name": "stdout",
          "text": [
            "Enter Item Code: 5\n",
            "Enter Item Name: apples\n",
            "Enter Price: 89\n",
            "Enter Quantity: 6\n",
            "\n",
            "--- Bill Details ---\n",
            "Item Code: 5\n",
            "Item: apples\n",
            "Price per unit: 89.0\n",
            "Quantity: 6\n",
            "Discount (%): 0\n",
            "Net Price: 534.0\n"
          ]
        }
      ],
      "source": [
        "def find_discount(qty):\n",
        "    if qty <= 10:\n",
        "        return 0\n",
        "    elif 11 <= qty <= 20:\n",
        "        return 15\n",
        "    else:\n",
        "        return 20\n",
        "\n",
        "def buy():\n",
        "    ICode = int(input(\"Enter Item Code: \"))\n",
        "    Item = input(\"Enter Item Name: \")\n",
        "    Price = float(input(\"Enter Price: \"))\n",
        "    Qty = int(input(\"Enter Quantity: \"))\n",
        "    Discount = find_discount(Qty)\n",
        "\n",
        "    # Apply discount as a percentage of total price\n",
        "    total_price = Price * Qty\n",
        "    discount_amount = (Discount / 100) * total_price\n",
        "    Netprice = total_price - discount_amount\n",
        "\n",
        "    return ICode, Item, Price, Qty, Discount, Netprice\n",
        "\n",
        "def show_all(ICode, Item, Price, Qty, Discount, Netprice):\n",
        "    print(\"\\n--- Bill Details ---\")\n",
        "    print(\"Item Code:\", ICode)\n",
        "    print(\"Item:\", Item)\n",
        "    print(\"Price per unit:\", Price)\n",
        "    print(\"Quantity:\", Qty)\n",
        "    print(\"Discount (%):\", Discount)\n",
        "    print(\"Net Price:\", round(Netprice, 2))\n",
        "\n",
        "# Run the program\n",
        "ICode, Item, Price, Qty, Discount, Netprice = buy()\n"
      ]
    }
  ]
}