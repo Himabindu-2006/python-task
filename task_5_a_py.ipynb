{
  "nbformat": 4,
  "nbformat_minor": 0,
  "metadata": {
    "colab": {
      "provenance": [],
      "authorship_tag": "ABX9TyPo0MS/zjf+ke/u01eYLLtl",
      "include_colab_link": true
    },
    "kernelspec": {
      "name": "python3",
      "display_name": "Python 3"
    },
    "language_info": {
      "name": "python"
    }
  },
  "cells": [
    {
      "cell_type": "markdown",
      "metadata": {
        "id": "view-in-github",
        "colab_type": "text"
      },
      "source": [
        "<a href=\"https://colab.research.google.com/github/Himabindu-2006/python-task/blob/main/task_5_a_py.ipynb\" target=\"_parent\"><img src=\"https://colab.research.google.com/assets/colab-badge.svg\" alt=\"Open In Colab\"/></a>"
      ]
    },
    {
      "cell_type": "code",
      "execution_count": 2,
      "metadata": {
        "colab": {
          "base_uri": "https://localhost:8080/"
        },
        "id": "lT6te8VW8CYf",
        "outputId": "94b1d574-d1d4-4bdd-e59c-c5caaae99478"
      },
      "outputs": [
        {
          "output_type": "stream",
          "name": "stdout",
          "text": [
            "Element 110 is present at index 6\n"
          ]
        }
      ],
      "source": [
        "def search(arr, x):\n",
        "    for i in range(len(arr)):\n",
        "        if arr[i] == x:\n",
        "            return i\n",
        "    return -1\n",
        "\n",
        "arr = [10, 20, 80, 30, 60, 50, 110, 100, 130, 170]\n",
        "x = 110\n",
        "result = search(arr, x)\n",
        "\n",
        "if result != -1:\n",
        "    print(\"Element\", x, \"is present at index\", result)\n",
        "else:\n",
        "    print(\"Element\", x, \"is not present in the array\")\n"
      ]
    }
  ]
}