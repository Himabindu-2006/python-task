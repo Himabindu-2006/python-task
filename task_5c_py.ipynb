{
  "nbformat": 4,
  "nbformat_minor": 0,
  "metadata": {
    "colab": {
      "provenance": [],
      "authorship_tag": "ABX9TyMy1bTEIUTv+YrPP24+WcrH",
      "include_colab_link": true
    },
    "kernelspec": {
      "name": "python3",
      "display_name": "Python 3"
    },
    "language_info": {
      "name": "python"
    }
  },
  "cells": [
    {
      "cell_type": "markdown",
      "metadata": {
        "id": "view-in-github",
        "colab_type": "text"
      },
      "source": [
        "<a href=\"https://colab.research.google.com/github/Himabindu-2006/python-task/blob/main/task_5c_py.ipynb\" target=\"_parent\"><img src=\"https://colab.research.google.com/assets/colab-badge.svg\" alt=\"Open In Colab\"/></a>"
      ]
    },
    {
      "cell_type": "code",
      "execution_count": null,
      "metadata": {
        "colab": {
          "base_uri": "https://localhost:8080/"
        },
        "id": "XoqS2QIT-var",
        "outputId": "34b010c5-e0df-4c57-b159-51fe35f06ba0"
      },
      "outputs": [
        {
          "name": "stdout",
          "output_type": "stream",
          "text": [
            "Enter the number of integers: 3\n",
            "Enter the integers:\n",
            "3\n"
          ]
        }
      ],
      "source": [
        "def bubble_sort(arr):\n",
        "    n = len(arr)\n",
        "    for i in range(n):\n",
        "        for j in range(0, n - i - 1):\n",
        "            if arr[j] > arr[j + 1]:\n",
        "                arr[j], arr[j + 1] = arr[j + 1], arr[j]\n",
        "\n",
        "def find_sequence(arr):\n",
        "    smallest = arr[0]\n",
        "    largest = arr[-1]\n",
        "    print(\"Sequence of integers:\", smallest, \"to\", largest)\n",
        "\n",
        "# Step 1: Get the number of integers\n",
        "n = int(input(\"Enter the number of integers: \"))\n",
        "\n",
        "# Step 2: Receive the integers\n",
        "integers = []\n",
        "print(\"Enter the integers:\")\n",
        "for _ in range(n):\n",
        "    integers.append(int(input()))\n",
        "\n",
        "# Step 3: Sort the integers using bubble sort\n",
        "bubble_sort(integers)\n",
        "\n",
        "# Step 4: Print the start and end of the sequence\n",
        "find_sequence(integers)\n"
      ]
    }
  ]
}