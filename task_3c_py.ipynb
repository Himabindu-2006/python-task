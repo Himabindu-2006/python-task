{
  "nbformat": 4,
  "nbformat_minor": 0,
  "metadata": {
    "colab": {
      "provenance": [],
      "authorship_tag": "ABX9TyMdMJSduHRoV7NMSz8jXgaE",
      "include_colab_link": true
    },
    "kernelspec": {
      "name": "python3",
      "display_name": "Python 3"
    },
    "language_info": {
      "name": "python"
    }
  },
  "cells": [
    {
      "cell_type": "markdown",
      "metadata": {
        "id": "view-in-github",
        "colab_type": "text"
      },
      "source": [
        "<a href=\"https://colab.research.google.com/github/Himabindu-2006/python-task/blob/main/task_3c_py.ipynb\" target=\"_parent\"><img src=\"https://colab.research.google.com/assets/colab-badge.svg\" alt=\"Open In Colab\"/></a>"
      ]
    },
    {
      "cell_type": "code",
      "execution_count": 1,
      "metadata": {
        "id": "OkpjUO6vn_O8"
      },
      "outputs": [],
      "source": [
        "# euclidean_distance_module.py\n",
        "\n",
        "import math\n",
        "\n",
        "def edistance(x, y):\n",
        "    \"\"\"Calculate the Euclidean distance between two 2D points x and y.\"\"\"\n",
        "    distance = math.sqrt((y[0] - x[0])**2 + (y[1] - x[1])**2)\n",
        "    return distance\n"
      ]
    }
  ]
}